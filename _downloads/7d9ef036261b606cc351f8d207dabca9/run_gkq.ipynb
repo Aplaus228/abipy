{
  "cells": [
    {
      "cell_type": "code",
      "execution_count": null,
      "metadata": {
        "collapsed": false
      },
      "outputs": [],
      "source": [
        "%matplotlib inline"
      ]
    },
    {
      "cell_type": "markdown",
      "metadata": {},
      "source": [
        "\nFlow for computing e-ph matrix elements along a q-path\n======================================================\n\nThis example shows how to compute the phonon band structure of AlAs with AbiPy flows.\nThe final results (out_DDB, out_DVDB) will be produced automatically at the end of the run\nand saved in ``flow_phonons/outdata/``.\n"
      ]
    },
    {
      "cell_type": "code",
      "execution_count": null,
      "metadata": {
        "collapsed": false
      },
      "outputs": [],
      "source": [
        "from __future__ import division, print_function, unicode_literals, absolute_import\n\nimport sys\nimport os\nimport abipy.abilab as abilab\nimport abipy.data as abidata\n\nfrom abipy import flowtk\n\n\ndef make_scf_input(ngkpt):\n    \"\"\"\n    This function constructs the input file for the GS calculation:\n    \"\"\"\n    structure = abidata.structure_from_ucell(\"AlAs\")\n    pseudos = abidata.pseudos(\"13al.981214.fhi\", \"33as.pspnc\")\n    gs_inp = abilab.AbinitInput(structure, pseudos=pseudos)\n\n    gs_inp.set_vars(\n        nband=6,\n        ecut=6.0,\n        ngkpt=ngkpt,\n        nshiftk=1,\n        shiftk=[0, 0, 0],\n        tolvrs=1.0e-10,\n    )\n\n    return gs_inp\n\n\ndef build_flow(options):\n    \"\"\"\n    Create a `Flow` for phonon calculations. The flow has two works.\n\n    The first work contains a single GS task that produces the WFK file used in DFPT\n    Then we have multiple Works that are generated automatically\n    in order to compute the dynamical matrix on a [2, 2, 2] mesh.\n    Symmetries are taken into account: only q-points in the IBZ are generated and\n    for each q-point only the independent atomic perturbations are computed.\n    \"\"\"\n    # Working directory (default is the name of the script with '.py' removed and \"run_\" replaced by \"flow_\")\n    if not options.workdir:\n        if os.getenv(\"READTHEDOCS\", False): __file__ = os.path.join(os.getcwd(), \"run_gkq.py\")\n        options.workdir = os.path.basename(__file__).replace(\".py\", \"\").replace(\"run_\", \"flow_\")\n\n    # Use 2x2x2 both for k-mesh and q-mesh\n    # Build input for GS calculation\n    scf_input = make_scf_input(ngkpt=(2, 2, 2))\n\n    # Create flow to compute all the independent atomic perturbations\n    # corresponding to a [4, 4, 4] q-mesh.\n    # Electric field and Born effective charges are also computed.\n    from abipy.flowtk.eph_flows import GkqPathFlow\n    ngqpt = (2, 2, 2)\n    #qpath_list = [[0.01, 0, 0], [0.02, 0, 0], [0.24, 0, 0], [0.45, 0, 0]]\n    qpath_list = [[0.0, 0.0, 0.0], [0.01, 0, 0], [0.1, 0, 0],\n                  [0.24, 0, 0], [0.3, 0, 0], [0.45, 0, 0], [0.5, 0.0, 0.0]]\n\n    flow = GkqPathFlow.from_scf_input(options.workdir, scf_input,\n                                      ngqpt, qpath_list, ndivsm=-1,\n                                      with_becs=True)\n\n    return flow\n\n\n# This block generates the thumbnails in the Abipy gallery.\n# You can safely REMOVE this part if you are using this script for production runs.\nif os.getenv(\"READTHEDOCS\", False):\n    __name__ = None\n    import tempfile\n    options = flowtk.build_flow_main_parser().parse_args([\"-w\", tempfile.mkdtemp()])\n    build_flow(options).graphviz_imshow()\n\n\n@flowtk.flow_main\ndef main(options):\n    \"\"\"\n    This is our main function that will be invoked by the script.\n    flow_main is a decorator implementing the command line interface.\n    Command line args are stored in `options`.\n    \"\"\"\n    return build_flow(options)\n\n\nif __name__ == \"__main__\":\n    sys.exit(main())"
      ]
    },
    {
      "cell_type": "markdown",
      "metadata": {},
      "source": [
        "Run the script with:\n\n    run_phonons.py -s\n\nthen use:\n\n   abirun.py flow_phonons history\n\nto get the list of actions perfomed by AbiPy to complete the flow.\nNote how the ``PhononWork`` has merged all the partial DDB files produced by the PhononTasks\n\n.. code-block:: bash\n\n   ===================================================================================================================================\n   ====================================== <PhononWork, node_id=241274, workdir=flow_phonons/w1> ================================\n   ===================================================================================================================================\n   [Thu Dec  7 22:55:02 2017] Finalized set to True\n   [Thu Dec  7 22:55:02 2017] Will call mrgddb to merge [ .... ]\n\nNow open the final DDB file with:\n\n   abiopen.py flow_phonons/outdata/out_DDB\n\nand invoke anaddb to compute the phonon band structure and the phonon DOS with:\n\n.. code-block:: ipython\n\n    In [1]: phbst_file, phdos_file = abifile.anaget_phbst_and_phdos_files()\n    In [2]: %matplotlib\n    In [3]: phbst_file.plot_phbands()\n\n![Phonon band structure of AlAs.](https://github.com/abinit/abipy_assets/blob/master/run_phonons.png?raw=true)\n\n\n"
      ]
    }
  ],
  "metadata": {
    "kernelspec": {
      "display_name": "Python 3",
      "language": "python",
      "name": "python3"
    },
    "language_info": {
      "codemirror_mode": {
        "name": "ipython",
        "version": 3
      },
      "file_extension": ".py",
      "mimetype": "text/x-python",
      "name": "python",
      "nbconvert_exporter": "python",
      "pygments_lexer": "ipython3",
      "version": "3.7.0"
    }
  },
  "nbformat": 4,
  "nbformat_minor": 0
}